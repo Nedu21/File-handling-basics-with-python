{
 "cells": [
  {
   "cell_type": "markdown",
   "id": "e3560c5c",
   "metadata": {},
   "source": [
    "In Python, the most basic thing you can do is open a file and read it. The function for this is open()."
   ]
  },
  {
   "cell_type": "code",
   "execution_count": 1,
   "id": "c11f362f",
   "metadata": {},
   "outputs": [
    {
     "name": "stdout",
     "output_type": "stream",
     "text": [
      "Hola mi amigos\n",
      "I am running a test\n"
     ]
    }
   ],
   "source": [
    "with open('test.txt', 'r') as f:\n",
    "    contents = f.read()\n",
    "    \n",
    "print(contents)"
   ]
  },
  {
   "cell_type": "markdown",
   "id": "1ae9a0cd",
   "metadata": {},
   "source": [
    "If you wanted to create a new file (or overwrite an existing one) and put text inside it, you’d do:"
   ]
  },
  {
   "cell_type": "code",
   "execution_count": 2,
   "id": "c7f2c142",
   "metadata": {},
   "outputs": [],
   "source": [
    "with open('greet.txt', 'w') as f:\n",
    "    f.write('Hello from python!')"
   ]
  },
  {
   "cell_type": "markdown",
   "id": "8a6936ec",
   "metadata": {},
   "source": [
    "If you actually wanted to add to the file instead of replacing it, you’d use \"a\" (append mode):"
   ]
  },
  {
   "cell_type": "code",
   "execution_count": 3,
   "id": "38e04f59",
   "metadata": {},
   "outputs": [],
   "source": [
    "with open('greet.txt', 'a') as f:\n",
    "    f.write('\\nWhat happens when you add a new line😬')"
   ]
  },
  {
   "cell_type": "code",
   "execution_count": 4,
   "id": "c2db9cfd",
   "metadata": {},
   "outputs": [
    {
     "name": "stdout",
     "output_type": "stream",
     "text": [
      "Learning python file handling.\n"
     ]
    }
   ],
   "source": [
    "with open('notes.txt', 'w') as f:\n",
    "    f.write('Learning python file handling.')\n",
    "    \n",
    "with open('notes.txt', 'r') as f:\n",
    "    cont = f.read()\n",
    "    \n",
    "print(cont)"
   ]
  },
  {
   "cell_type": "markdown",
   "id": "51638a17",
   "metadata": {},
   "source": [
    "Python has a module called os (and a newer one, pathlib) for dealing with folders."
   ]
  },
  {
   "cell_type": "code",
   "execution_count": 5,
   "id": "bb23b50e",
   "metadata": {},
   "outputs": [],
   "source": [
    "import os"
   ]
  },
  {
   "cell_type": "markdown",
   "id": "cf3fe3c6",
   "metadata": {},
   "source": [
    "See where you are right now"
   ]
  },
  {
   "cell_type": "code",
   "execution_count": 6,
   "id": "435a900b",
   "metadata": {},
   "outputs": [
    {
     "name": "stdout",
     "output_type": "stream",
     "text": [
      "c:\\Users\\Student\\Desktop\\PyTest\n"
     ]
    }
   ],
   "source": [
    "print(os.getcwd())"
   ]
  },
  {
   "cell_type": "markdown",
   "id": "678481c6",
   "metadata": {},
   "source": [
    "List files in the current folder"
   ]
  },
  {
   "cell_type": "code",
   "execution_count": 7,
   "id": "a2407473",
   "metadata": {},
   "outputs": [
    {
     "name": "stdout",
     "output_type": "stream",
     "text": [
      "['greet.txt', 'notes.txt', 'pytest.ipynb', 'test.txt']\n"
     ]
    }
   ],
   "source": [
    "print(os.listdir())"
   ]
  },
  {
   "cell_type": "markdown",
   "id": "c5fb1541",
   "metadata": {},
   "source": [
    "Next step up is creating folders. For that, you use os.mkdir():"
   ]
  },
  {
   "cell_type": "code",
   "execution_count": 8,
   "id": "f095d4db",
   "metadata": {},
   "outputs": [],
   "source": [
    "os.mkdir('my_folder')"
   ]
  },
  {
   "cell_type": "markdown",
   "id": "2d5a86a0",
   "metadata": {},
   "source": [
    "If you run os.mkdir() 2x with the same folder name you'll get an error to prevent this you have some options"
   ]
  },
  {
   "cell_type": "markdown",
   "id": "1613daa1",
   "metadata": {},
   "source": [
    "1. Check first"
   ]
  },
  {
   "cell_type": "code",
   "execution_count": 9,
   "id": "f9e6e0b8",
   "metadata": {},
   "outputs": [],
   "source": [
    "if not os.path.exists('my_folder'):\n",
    "    os.mkdir('my_folder')"
   ]
  },
  {
   "cell_type": "markdown",
   "id": "a71e22e4",
   "metadata": {},
   "source": [
    "2. More standard practice os.makedirs()"
   ]
  },
  {
   "cell_type": "code",
   "execution_count": 10,
   "id": "8c12715d",
   "metadata": {},
   "outputs": [],
   "source": [
    "os.makedirs('my_folder', exist_ok=True)"
   ]
  },
  {
   "cell_type": "markdown",
   "id": "10110b3b",
   "metadata": {},
   "source": [
    "3. Use the newer pathlib way, which feels cleaner:"
   ]
  },
  {
   "cell_type": "code",
   "execution_count": 11,
   "id": "009005df",
   "metadata": {},
   "outputs": [],
   "source": [
    "from pathlib import Path\n",
    "\n",
    "Path('my_folder').mkdir(exist_ok=True)"
   ]
  },
  {
   "cell_type": "markdown",
   "id": "e013c1c3",
   "metadata": {},
   "source": [
    "Let’s tackle navigating into folders first.\n",
    "\n",
    "With os, you use chdir (change directory):"
   ]
  },
  {
   "cell_type": "code",
   "execution_count": 12,
   "id": "4f0139a7",
   "metadata": {},
   "outputs": [
    {
     "name": "stdout",
     "output_type": "stream",
     "text": [
      "Before: c:\\Users\\Student\\Desktop\\PyTest\n",
      "After: c:\\Users\\Student\\Desktop\\PyTest\\my_folder\n"
     ]
    }
   ],
   "source": [
    "print('Before:', os.getcwd())   # Where we are now\n",
    "os.chdir('my_folder')           # Move into the folder\n",
    "print('After:', os.getcwd())      # New location"
   ]
  },
  {
   "cell_type": "code",
   "execution_count": 13,
   "id": "e2cfc161",
   "metadata": {},
   "outputs": [],
   "source": [
    "with open('test.txt', 'w') as f:\n",
    "    f.write('Inside folder 😬')"
   ]
  },
  {
   "cell_type": "markdown",
   "id": "a004ebbe",
   "metadata": {},
   "source": [
    "To navigate to the parent directory we use '..' you can also go back multiple levels using '../..'"
   ]
  },
  {
   "cell_type": "code",
   "execution_count": 14,
   "id": "e272b041",
   "metadata": {},
   "outputs": [],
   "source": [
    "os.chdir('..')"
   ]
  },
  {
   "cell_type": "markdown",
   "id": "99bb7034",
   "metadata": {},
   "source": [
    "Zipped files are super common when downloading datasets or project files.\n",
    "\n",
    "In Python, the go-to tool is the zipfile module. Here’s the usual flow:"
   ]
  },
  {
   "cell_type": "code",
   "execution_count": 15,
   "id": "321e3927",
   "metadata": {},
   "outputs": [],
   "source": [
    "import zipfile"
   ]
  },
  {
   "cell_type": "markdown",
   "id": "b300d2f0",
   "metadata": {},
   "source": [
    "Create the archive zipfile"
   ]
  },
  {
   "cell_type": "code",
   "execution_count": 16,
   "id": "06736685",
   "metadata": {},
   "outputs": [
    {
     "data": {
      "text/plain": [
       "'archive.zip'"
      ]
     },
     "execution_count": 16,
     "metadata": {},
     "output_type": "execute_result"
    }
   ],
   "source": [
    "# Define file names and contents\n",
    "files_content = {\n",
    "    \"file1.txt\": \"This is the first sample file.\\nIt has a few lines of text.\\nLine 3 of file1.\",\n",
    "    \"file2.txt\": \"This is the second sample file.\\nIt also has some text.\\nEnd of file2.\"\n",
    "}\n",
    "\n",
    "# Create the text files\n",
    "for filename, content in files_content.items():\n",
    "    with open(filename, \"w\") as f:\n",
    "        f.write(content)\n",
    "\n",
    "# Create a zip file containing the text files\n",
    "zip_filename = \"archive.zip\"\n",
    "with zipfile.ZipFile(zip_filename, \"w\") as zipf:\n",
    "    for filename in files_content.keys():\n",
    "        zipf.write(filename)\n",
    "\n",
    "# Clean up the individual files (optional, so only zip remains)\n",
    "for filename in files_content.keys():\n",
    "    os.remove(filename)\n",
    "\n",
    "zip_filename"
   ]
  },
  {
   "cell_type": "code",
   "execution_count": 17,
   "id": "6c39e4c0",
   "metadata": {},
   "outputs": [],
   "source": [
    "# Open zipfile\n",
    "with zipfile.ZipFile('archive.zip', 'r') as zip_ref:\n",
    "    # Extract everything into a folder\n",
    "    zip_ref.extractall('unzippedfiles')"
   ]
  },
  {
   "cell_type": "code",
   "execution_count": 18,
   "id": "93d51df1",
   "metadata": {},
   "outputs": [
    {
     "data": {
      "text/plain": [
       "['file1.txt', 'file2.txt']"
      ]
     },
     "execution_count": 18,
     "metadata": {},
     "output_type": "execute_result"
    }
   ],
   "source": [
    "os.listdir('unzippedfiles')"
   ]
  },
  {
   "cell_type": "markdown",
   "id": "755fdc8e",
   "metadata": {},
   "source": [
    "The last common thing you mentioned was downloading a file. That’s usually done with the requests module (for web downloads). For example:"
   ]
  },
  {
   "cell_type": "code",
   "execution_count": 19,
   "id": "67950f3a",
   "metadata": {},
   "outputs": [],
   "source": [
    "import requests"
   ]
  },
  {
   "cell_type": "code",
   "execution_count": 20,
   "id": "6aa3ea00",
   "metadata": {},
   "outputs": [
    {
     "name": "stdout",
     "output_type": "stream",
     "text": [
      "Downloaded: Sample_zip\n"
     ]
    }
   ],
   "source": [
    "url = \"https://www.filesampleshub.com/download/archive/zip/sample1.zip\"\n",
    "zip_filename = 'Sample_zip'\n",
    "extract_folder = 'unzipped_sample'\n",
    "\n",
    "resp = requests.get(url)\n",
    "resp.raise_for_status() # will throw error if status is bad\n",
    "\n",
    "with open(zip_filename, 'wb') as f:\n",
    "    f.write(resp.content)\n",
    "print(\"Downloaded:\", zip_filename)"
   ]
  },
  {
   "cell_type": "code",
   "execution_count": 21,
   "id": "2cfb2843",
   "metadata": {},
   "outputs": [
    {
     "name": "stdout",
     "output_type": "stream",
     "text": [
      "Extracted to: unzipped_sample\n",
      "Contents: ['sample1.doc', '__MACOSX']\n"
     ]
    }
   ],
   "source": [
    "with zipfile.ZipFile(zip_filename, 'r') as z:\n",
    "    z.extractall(extract_folder)\n",
    "\n",
    "print(\"Extracted to:\", extract_folder)\n",
    "print(\"Contents:\", os.listdir(extract_folder))"
   ]
  }
 ],
 "metadata": {
  "kernelspec": {
   "display_name": "myenv",
   "language": "python",
   "name": "python3"
  },
  "language_info": {
   "codemirror_mode": {
    "name": "ipython",
    "version": 3
   },
   "file_extension": ".py",
   "mimetype": "text/x-python",
   "name": "python",
   "nbconvert_exporter": "python",
   "pygments_lexer": "ipython3",
   "version": "3.10.18"
  }
 },
 "nbformat": 4,
 "nbformat_minor": 5
}
